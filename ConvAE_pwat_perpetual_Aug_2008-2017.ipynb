{
 "cells": [
  {
   "cell_type": "code",
   "execution_count": 3,
   "metadata": {
    "scrolled": false
   },
   "outputs": [
    {
     "name": "stderr",
     "output_type": "stream",
     "text": [
      "Using TensorFlow backend.\n"
     ]
    }
   ],
   "source": [
    "from keras.models import load_model\n",
    "from mod_gendata import *\n",
    "import matplotlib.pyplot as plt\n",
    "from mod_cutregion import *"
   ]
  },
  {
   "cell_type": "code",
   "execution_count": 4,
   "metadata": {},
   "outputs": [],
   "source": [
    "autoencoder = load_model(\"./pwat_convae50_2knldeeper_peraug.h5\")"
   ]
  },
  {
   "cell_type": "code",
   "execution_count": 5,
   "metadata": {},
   "outputs": [
    {
     "name": "stdout",
     "output_type": "stream",
     "text": [
      "_________________________________________________________________\n",
      "Layer (type)                 Output Shape              Param #   \n",
      "=================================================================\n",
      "input_1 (InputLayer)         (None, 64, 64, 1)         0         \n",
      "_________________________________________________________________\n",
      "conv2d_2 (Conv2D)            (None, 32, 32, 8)         40        \n",
      "_________________________________________________________________\n",
      "conv2d_3 (Conv2D)            (None, 16, 16, 16)        528       \n",
      "_________________________________________________________________\n",
      "conv2d_4 (Conv2D)            (None, 8, 8, 32)          2080      \n",
      "_________________________________________________________________\n",
      "conv2d_5 (Conv2D)            (None, 8, 8, 64)          8256      \n",
      "_________________________________________________________________\n",
      "conv2d_transpose_1 (Conv2DTr (None, 16, 16, 32)        8224      \n",
      "_________________________________________________________________\n",
      "conv2d_6 (Conv2D)            (None, 16, 16, 16)        2064      \n",
      "_________________________________________________________________\n",
      "conv2d_transpose_2 (Conv2DTr (None, 32, 32, 8)         520       \n",
      "_________________________________________________________________\n",
      "conv2d_7 (Conv2D)            (None, 32, 32, 8)         264       \n",
      "_________________________________________________________________\n",
      "conv2d_transpose_3 (Conv2DTr (None, 64, 64, 4)         132       \n",
      "_________________________________________________________________\n",
      "conv2d_8 (Conv2D)            (None, 64, 64, 1)         17        \n",
      "=================================================================\n",
      "Total params: 22,125\n",
      "Trainable params: 22,125\n",
      "Non-trainable params: 0\n",
      "_________________________________________________________________\n",
      "None\n"
     ]
    }
   ],
   "source": [
    "# model archetecture \n",
    "print(autoencoder.summary())"
   ]
  },
  {
   "cell_type": "code",
   "execution_count": 6,
   "metadata": {},
   "outputs": [
    {
     "name": "stdout",
     "output_type": "stream",
     "text": [
      " Max value   93.2\n"
     ]
    }
   ],
   "source": [
    "# load test dataset\n",
    "keyward = 'pwat'\n",
    "lat     = 181 ; lon = 360 \n",
    "testdir= '/home/kurihana/ml_model/work_mymodel/ex4/data/test_data'\n",
    "gd     = gen_grads_data()\n",
    "x_test = gd.load_key_data(testdir, keyward)\n",
    "x_test = x_test.reshape(x_test.shape[0],lat,lon)"
   ]
  },
  {
   "cell_type": "code",
   "execution_count": 7,
   "metadata": {},
   "outputs": [
    {
     "name": "stdout",
     "output_type": "stream",
     "text": [
      "(80, 64, 64)\n"
     ]
    }
   ],
   "source": [
    "# Select Region\n",
    "sg = sl_region()\n",
    "\n",
    "# Descripition fot \"get_region\" API\n",
    "#\n",
    "# get_region(data, data_dimension, all_lat, all_lon. nlat, slat, wlon, elon)\n",
    "# all_lat/lon : original data's lat/lon\n",
    "# nlat = north latitude in selected region\n",
    "\n",
    "x_test  = sg.get_region(x_test, 3, lat, lon, 64, 0, 225, 289)"
   ]
  },
  {
   "cell_type": "code",
   "execution_count": 10,
   "metadata": {},
   "outputs": [],
   "source": [
    "# Add channel dimension\n",
    "nlat = 64 # based on get_region number\n",
    "nlon = 64\n",
    "x_test = x_test.reshape(x_test.shape[0], nlat, nlon, 1)"
   ]
  },
  {
   "cell_type": "code",
   "execution_count": 12,
   "metadata": {},
   "outputs": [],
   "source": [
    "decoded_imgs = autoencoder.predict(x_test)"
   ]
  },
  {
   "cell_type": "code",
   "execution_count": 14,
   "metadata": {},
   "outputs": [
    {
     "data": {
      "image/png": "[encoded data removed]",
      "text/plain": [
       "<Figure size 1152x576 with 4 Axes>"
      ]
     },
     "metadata": {},
     "output_type": "display_data"
    }
   ],
   "source": [
    "n = 2\n",
    "plt.figure(figsize=(16,8))\n",
    "image_list = [0, 12]\n",
    "#for i in range(n):\n",
    "for index, i in enumerate(image_list):\n",
    "     # test data\n",
    "     ax = plt.subplot(2,n,index+1)\n",
    "     plt.imshow(x_test[i].reshape(nlat,nlon))\n",
    "     plt.gray()\n",
    "     itime = int(i*6)\n",
    "     plt.title('+ %d hour'% itime )\n",
    "     ax.get_xaxis().set_visible(False)\n",
    "     ax.get_yaxis().set_visible(False)\n",
    "\n",
    "     # decoded data \n",
    "     ax = plt.subplot(2,n,index+1+n)\n",
    "     plt.imshow(decoded_imgs[i].reshape(nlat,nlon))\n",
    "     plt.gray()\n",
    "     ax.get_xaxis().set_visible(False)\n",
    "     ax.get_yaxis().set_visible(False)\n",
    "\n",
    "plt.show()"
   ]
  }
 ],
 "metadata": {
  "kernelspec": {
   "display_name": "Python 3",
   "language": "python",
   "name": "python3"
  },
  "language_info": {
   "codemirror_mode": {
    "name": "ipython",
    "version": 3
   },
   "file_extension": ".py",
   "mimetype": "text/x-python",
   "name": "python",
   "nbconvert_exporter": "python",
   "pygments_lexer": "ipython3",
   "version": "3.5.2"
  }
 },
 "nbformat": 4,
 "nbformat_minor": 2
}
